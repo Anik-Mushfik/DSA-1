{
 "cells": [
  {
   "cell_type": "markdown",
   "metadata": {},
   "source": [
    "**Qustion-1:**\n",
    "\n",
    "What will the following single linked list look like after the given code segment is executed? Consider the first node as head.\n",
    "[6]\n",
    "\n",
    "24-> 43 -> 67-> 3-> 22 -> 11 -> 9\n",
    "\n",
    "def fun(self):\n",
    "\n",
    "    temp = self.head\n",
    "\n",
    "    while temp != None and temp.next != None:\n",
    "\n",
    "        # Exchange data the two nodes\n",
    "\n",
    "        x = temp.data\n",
    "\n",
    "        temp.data = temp.next.data\n",
    "\n",
    "        temp.next.data = x\n",
    "\n",
    "        temp = temp.next.next"
   ]
  },
  {
   "cell_type": "code",
   "execution_count": 96,
   "metadata": {},
   "outputs": [],
   "source": [
    "class Node:\n",
    "    def __init__(self, data):\n",
    "        self.data = data\n",
    "        self.next = None\n",
    "\n",
    "\n",
    "class SingleLinkedList:\n",
    "    def __init__(self):\n",
    "        self.head = None\n",
    "    \n",
    "    def insertAtBegin(self, data):\n",
    "        new_item = Node(data)\n",
    "        if self.head is None:\n",
    "            self.head = new_item\n",
    "            return\n",
    "        else:\n",
    "            new_item.next = self.head\n",
    "            self.head = new_item\n",
    "\n",
    "    def insertAtEnd(self, data):\n",
    "        new_item = Node(data)\n",
    "        if self.head is None:\n",
    "            self.head = new_item\n",
    "            return\n",
    "        else:\n",
    "            current = self.head\n",
    "            while (current.next != None):\n",
    "                current = current.next\n",
    "            current.next = new_item\n",
    "\n",
    "    def fun(self):\n",
    "        temp = self.head\n",
    "        var = 0\n",
    "        while (temp != None) and (temp.next != None):\n",
    "            # Exchange data the two nodes\n",
    "            x = temp.data\n",
    "            temp.data = temp.next.data\n",
    "            temp.next.data = x\n",
    "\n",
    "            temp = temp.next.next\n",
    "    \n",
    "    def display(self):\n",
    "        current = self.head\n",
    "        while(current):\n",
    "            print(current.data, end=\" -> \")\n",
    "            current = current.next\n",
    "        print(f\"None\")"
   ]
  },
  {
   "cell_type": "code",
   "execution_count": 97,
   "metadata": {},
   "outputs": [
    {
     "name": "stdout",
     "output_type": "stream",
     "text": [
      "23 -> 43 -> 67 -> 4 -> 22 -> 11 -> 9 -> None\n",
      "43 -> 23 -> 4 -> 67 -> 11 -> 22 -> 9 -> None\n"
     ]
    }
   ],
   "source": [
    "list_1 = SingleLinkedList()\n",
    "list_1.insertAtBegin(23)\n",
    "list_1.insertAtEnd(43)\n",
    "list_1.insertAtEnd(67)\n",
    "list_1.insertAtEnd(4)\n",
    "list_1.insertAtEnd(22)\n",
    "list_1.insertAtEnd(11)\n",
    "list_1.insertAtEnd(9)\n",
    "list_1.display()\n",
    "list_1.fun()\n",
    "list_1.display()"
   ]
  },
  {
   "cell_type": "markdown",
   "metadata": {},
   "source": [
    "**Qustion-2:**\n",
    "\n",
    "Given a single linked list and the first node denoted as head, write a function to delete all the odd valued nodes of the linked list.\n",
    "[7]"
   ]
  },
  {
   "cell_type": "code",
   "execution_count": 98,
   "metadata": {},
   "outputs": [],
   "source": [
    "class Node:\n",
    "    def __init__(self, data):\n",
    "        self.data = data\n",
    "        self.next = None\n",
    "\n",
    "\n",
    "class SingleLinkedList_2:\n",
    "    def __init__(self):\n",
    "        self.head = None\n",
    "    \n",
    "    def insertAtBegin(self, data):\n",
    "        new_item = Node(data)\n",
    "        if self.head is None:\n",
    "            self.head = new_item\n",
    "            return\n",
    "        else:\n",
    "            new_item.next = self.head\n",
    "            self.head = new_item\n",
    "\n",
    "    def insertAtEnd(self, data):\n",
    "        new_item = Node(data)\n",
    "        if self.head is None:\n",
    "            self.head = new_item\n",
    "            return\n",
    "        else:\n",
    "            current = self.head\n",
    "            while (current.next != None):\n",
    "                current = current.next\n",
    "            current.next = new_item\n",
    "\n",
    "    def display(self):\n",
    "        current = self.head\n",
    "        while(current):\n",
    "            print(current.data, end=\" -> \")\n",
    "            current = current.next\n",
    "        print(f\"None\")\n",
    "\n",
    "    def deleteOdd(self):\n",
    "        if self.head is None:\n",
    "            print(\"The List is Empty\")\n",
    "\n",
    "        else:\n",
    "            current = self.head\n",
    "            while(current != None) and (current.next != None):\n",
    "                if ((self.head.data % 2) != 0):\n",
    "                    self.head = self.head.next\n",
    "                    current = self.head\n",
    "                elif ((current.next.data % 2) != 0):\n",
    "                    current.next = current.next.next\n",
    "                else:\n",
    "                    current = current.next\n"
   ]
  },
  {
   "cell_type": "code",
   "execution_count": 99,
   "metadata": {},
   "outputs": [
    {
     "name": "stdout",
     "output_type": "stream",
     "text": [
      "23 -> 43 -> 67 -> 4 -> 22 -> 11 -> 9 -> None\n",
      "4 -> 22 -> None\n"
     ]
    }
   ],
   "source": [
    "list_2 = SingleLinkedList_2()\n",
    "list_2.insertAtBegin(23)\n",
    "list_2.insertAtEnd(43)\n",
    "list_2.insertAtEnd(67)\n",
    "list_2.insertAtEnd(4)\n",
    "list_2.insertAtEnd(22)\n",
    "list_2.insertAtEnd(11)\n",
    "list_2.insertAtEnd(9)\n",
    "list_2.display()\n",
    "list_2.deleteOdd()\n",
    "list_2.display()"
   ]
  },
  {
   "cell_type": "markdown",
   "metadata": {},
   "source": [
    "Go To \n",
    "\n",
    "( https://pythontutor.com/render.html#code=class%20Node%3A%0A%20%20%20%20def%20__init__%28self,%20data%29%3A%0A%20%20%20%20%20%20%20%20self.data%20%3D%20data%0A%20%20%20%20%20%20%20%20self.next%20%3D%20None%0A%0A%0Aclass%20SingleLinkedList_2%3A%0A%20%20%20%20def%20__init__%28self%29%3A%0A%20%20%20%20%20%20%20%20self.head%20%3D%20None%0A%20%20%20%20%0A%20%20%20%20def%20insertAtBegin%28self,%20data%29%3A%0A%20%20%20%20%20%20%20%20new_item%20%3D%20Node%28data%29%0A%20%20%20%20%20%20%20%20if%20self.head%20is%20None%3A%0A%20%20%20%20%20%20%20%20%20%20%20%20self.head%20%3D%20new_item%0A%20%20%20%20%20%20%20%20%20%20%20%20return%0A%20%20%20%20%20%20%20%20else%3A%0A%20%20%20%20%20%20%20%20%20%20%20%20new_item.next%20%3D%20self.head%0A%20%20%20%20%20%20%20%20%20%20%20%20self.head%20%3D%20new_item%0A%0A%20%20%20%20def%20insertAtEnd%28self,%20data%29%3A%0A%20%20%20%20%20%20%20%20new_item%20%3D%20Node%28data%29%0A%20%20%20%20%20%20%20%20if%20self.head%20is%20None%3A%0A%20%20%20%20%20%20%20%20%20%20%20%20self.head%20%3D%20new_item%0A%20%20%20%20%20%20%20%20%20%20%20%20return%0A%20%20%20%20%20%20%20%20else%3A%0A%20%20%20%20%20%20%20%20%20%20%20%20current%20%3D%20self.head%0A%20%20%20%20%20%20%20%20%20%20%20%20while%20%28current.next%20!%3D%20None%29%3A%0A%20%20%20%20%20%20%20%20%20%20%20%20%20%20%20%20current%20%3D%20current.next%0A%20%20%20%20%20%20%20%20%20%20%20%20current.next%20%3D%20new_item%0A%0A%20%20%20%20def%20display%28self%29%3A%0A%20%20%20%20%20%20%20%20current%20%3D%20self.head%0A%20%20%20%20%20%20%20%20while%28current%29%3A%0A%20%20%20%20%20%20%20%20%20%20%20%20print%28current.data,%20end%3D%22%20-%3E%20%22%29%0A%20%20%20%20%20%20%20%20%20%20%20%20current%20%3D%20current.next%0A%20%20%20%20%20%20%20%20print%28f%22None%22%29%0A%0A%20%20%20%20def%20deleteOdd%28self%29%3A%0A%20%20%20%20%20%20%20%20if%20self.head%20is%20None%3A%0A%20%20%20%20%20%20%20%20%20%20%20%20print%28%22The%20List%20is%20Empty%22%29%0A%0A%20%20%20%20%20%20%20%20else%3A%0A%20%20%20%20%20%20%20%20%20%20%20%20current%20%3D%20self.head%0A%20%20%20%20%20%20%20%20%20%20%20%20while%28current%20!%3D%20None%29%20and%20%28current.next%20!%3D%20None%29%3A%0A%20%20%20%20%20%20%20%20%20%20%20%20%20%20%20%20if%20%28%28self.head.data%20%25%202%29%20!%3D%200%29%3A%0A%20%20%20%20%20%20%20%20%20%20%20%20%20%20%20%20%20%20%20%20self.head%20%3D%20self.head.next%0A%20%20%20%20%20%20%20%20%20%20%20%20%20%20%20%20%20%20%20%20current%20%3D%20self.head%0A%20%20%20%20%20%20%20%20%20%20%20%20%20%20%20%20elif%20%28%28current.next.data%20%25%202%29%20!%3D%200%29%3A%0A%20%20%20%20%20%20%20%20%20%20%20%20%20%20%20%20%20%20%20%20current.next%20%3D%20current.next.next%0A%20%20%20%20%20%20%20%20%20%20%20%20%20%20%20%20else%3A%0A%20%20%20%20%20%20%20%20%20%20%20%20%20%20%20%20%20%20%20%20current%20%3D%20current.next%0A%20%20%20%20%20%20%20%20%20%20%20%20%20%20%20%20%20%20%20%20%0A%20%20%20%20%20%20%20%20%20%20%20%20%20%20%20%20%20%20%20%20%0A%20%20%20%20%20%20%20%20%20%20%20%20%0A%20%20%20%20%20%20%20%20%20%20%20%20%0Alist_2%20%3D%20SingleLinkedList_2%28%29%0Alist_2.insertAtBegin%2823%29%0Alist_2.insertAtEnd%2843%29%0Alist_2.insertAtEnd%2867%29%0Alist_2.insertAtEnd%284%29%0Alist_2.insertAtEnd%2822%29%0Alist_2.insertAtEnd%2811%29%0Alist_2.insertAtEnd%289%29%0Alist_2.display%28%29%0Alist_2.deleteOdd%28%29%0Alist_2.display%28%29&cumulative=false&curInstr=177&heapPrimitives=nevernest&mode=display&origin=opt-frontend.js&py=311&rawInputLstJSON=%5B%5D&textReferences=false ) \n",
    "\n",
    "to see the visualization of exicution!"
   ]
  },
  {
   "cell_type": "markdown",
   "metadata": {},
   "source": [
    "**Qustion-3:**\n",
    "\n",
    "Given a double linked list and the first node denoted as head, write a function to insert a new node at the second last position of the linked list.\n",
    "[7]"
   ]
  },
  {
   "cell_type": "code",
   "execution_count": 100,
   "metadata": {},
   "outputs": [],
   "source": [
    "class Node:\n",
    "    def __init__(self, data=None):\n",
    "        self.data = data\n",
    "        self.next = None\n",
    "        self.prev = None\n",
    "\n",
    "\n",
    "class DoubleLinkedList:\n",
    "    def __init__(self):\n",
    "        self.head = None\n",
    "\n",
    "    def addAtBegin(self, data):\n",
    "        new_item = Node(data)\n",
    "        if self.head is not None:\n",
    "            self.head.prev = new_item\n",
    "            new_item.next = self.head\n",
    "        self.head = new_item\n",
    "    \n",
    "    def addAtEnd(self, data):\n",
    "        new_item = Node(data)\n",
    "        if self.head is not None:\n",
    "            current = self.head\n",
    "            while (current.next != None):\n",
    "                current = current.next\n",
    "            current.next = new_item\n",
    "            new_item.prev = current\n",
    "        else:\n",
    "            self.head = new_item\n",
    "\n",
    "    def insertAtSecondLast(self, data):\n",
    "        new_item = Node(data)\n",
    "        if self.head is None:\n",
    "            print(\"The list is empty!\")\n",
    "        elif self.head.next is None:\n",
    "            print(\"The list has only one item!\")\n",
    "        # elif self.head.next.next is None:\n",
    "        #     new_item.next = self.head.\n",
    "        #     self.head.next\n",
    "        #     self.head.prev = None\n",
    "        else:\n",
    "            current = self.head\n",
    "            while (current.next.next):\n",
    "                current = current.next\n",
    "            new_item.next = current.next\n",
    "            current.next.prev = new_item\n",
    "            new_item.prev = current\n",
    "            current.next = new_item\n",
    "\n",
    "    def display(self):\n",
    "        current = self.head\n",
    "        while(current):\n",
    "            print(current.data, end=\" <-> \")\n",
    "            current = current.next\n",
    "        print(f\"None\")\n",
    "            "
   ]
  },
  {
   "cell_type": "code",
   "execution_count": 101,
   "metadata": {},
   "outputs": [
    {
     "name": "stdout",
     "output_type": "stream",
     "text": [
      "4 <-> 63 <-> 47 <-> 31 <-> 78 <-> 12 <-> 9 <-> None\n",
      "4 <-> 63 <-> 47 <-> 31 <-> 78 <-> 12 <-> 112 <-> 9 <-> None\n"
     ]
    }
   ],
   "source": [
    "list_3 = DoubleLinkedList()\n",
    "list_3.addAtBegin(4)\n",
    "list_3.addAtEnd(63)\n",
    "list_3.addAtEnd(47)\n",
    "list_3.addAtEnd(31)\n",
    "list_3.addAtEnd(78)\n",
    "list_3.addAtEnd(12)\n",
    "list_3.addAtEnd(9)\n",
    "list_3.display()\n",
    "list_3.insertAtSecondLast(112)\n",
    "list_3.display()"
   ]
  }
 ],
 "metadata": {
  "kernelspec": {
   "display_name": "Python 3",
   "language": "python",
   "name": "python3"
  },
  "language_info": {
   "codemirror_mode": {
    "name": "ipython",
    "version": 3
   },
   "file_extension": ".py",
   "mimetype": "text/x-python",
   "name": "python",
   "nbconvert_exporter": "python",
   "pygments_lexer": "ipython3",
   "version": "3.13.1"
  }
 },
 "nbformat": 4,
 "nbformat_minor": 2
}
