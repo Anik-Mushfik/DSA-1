{
 "cells": [
  {
   "cell_type": "markdown",
   "metadata": {},
   "source": []
  },
  {
   "cell_type": "code",
   "execution_count": 17,
   "metadata": {},
   "outputs": [],
   "source": [
    "class Node:\n",
    "    def __init__(self, data):\n",
    "        self.data = data\n",
    "        self.next = None\n",
    "\n",
    "\n",
    "class SingleLinkedList:\n",
    "    def __init__(self):\n",
    "        self.head = None\n",
    "    \n",
    "    def insertAtBegin(self, data):\n",
    "        new_item = Node(data)\n",
    "        if self.head is None:\n",
    "            self.head = new_item\n",
    "            return\n",
    "        else:\n",
    "            new_item.next = self.head\n",
    "            self.head = new_item\n",
    "\n",
    "    def insertAtEnd(self, data):\n",
    "        new_item = Node(data)\n",
    "        if self.head is None:\n",
    "            self.head = new_item\n",
    "            return\n",
    "        else:\n",
    "            current = self.head\n",
    "            while (current.next != None):\n",
    "                current = current.next\n",
    "            current.next = new_item\n",
    "\n",
    "    def fun(self):\n",
    "        temp = self.head\n",
    "        var = 0\n",
    "        while (temp != None) and (temp.next != None):\n",
    "            # Exchange data the two nodes\n",
    "            x = temp.data\n",
    "            temp.data = temp.next.data\n",
    "            temp.next.data = x\n",
    "\n",
    "            temp = temp.next.next\n",
    "    \n",
    "    def display(self):\n",
    "        current = self.head\n",
    "        while(current):\n",
    "            print(current.data, end=\" -> \")\n",
    "            current = current.next\n",
    "        print(f\"None\")\n",
    "\n",
    "    def deleteOdd(self):\n",
    "        if self.head is None:\n",
    "            print(\"The List is Empty\")\n",
    "\n",
    "        else:\n",
    "            if ((self.head.data % 2) != 0):\n",
    "                self.head = self.head.next\n",
    "            current = self.head\n",
    "            while(current):\n",
    "                if ((current.next.data % 2) != 0):\n",
    "                    current.next = current.next.next\n",
    "                else:\n",
    "                    current = current.next\n"
   ]
  },
  {
   "cell_type": "code",
   "execution_count": 18,
   "metadata": {},
   "outputs": [
    {
     "name": "stdout",
     "output_type": "stream",
     "text": [
      "24 -> 43 -> 67 -> 4 -> 22 -> 11 -> 9 -> None\n",
      "43 -> 24 -> 4 -> 67 -> 11 -> 22 -> 9 -> None\n"
     ]
    },
    {
     "ename": "AttributeError",
     "evalue": "'NoneType' object has no attribute 'data'",
     "output_type": "error",
     "traceback": [
      "\u001b[1;31m---------------------------------------------------------------------------\u001b[0m",
      "\u001b[1;31mAttributeError\u001b[0m                            Traceback (most recent call last)",
      "Cell \u001b[1;32mIn[18], line 12\u001b[0m\n\u001b[0;32m     10\u001b[0m list_1\u001b[38;5;241m.\u001b[39mfun()\n\u001b[0;32m     11\u001b[0m list_1\u001b[38;5;241m.\u001b[39mdisplay()\n\u001b[1;32m---> 12\u001b[0m \u001b[43mlist_1\u001b[49m\u001b[38;5;241;43m.\u001b[39;49m\u001b[43mdeleteOdd\u001b[49m\u001b[43m(\u001b[49m\u001b[43m)\u001b[49m\n\u001b[0;32m     13\u001b[0m list_1\u001b[38;5;241m.\u001b[39mdisplay()\n",
      "Cell \u001b[1;32mIn[17], line 58\u001b[0m, in \u001b[0;36mSingleLinkedList.deleteOdd\u001b[1;34m(self)\u001b[0m\n\u001b[0;32m     56\u001b[0m current \u001b[38;5;241m=\u001b[39m \u001b[38;5;28mself\u001b[39m\u001b[38;5;241m.\u001b[39mhead\n\u001b[0;32m     57\u001b[0m \u001b[38;5;28;01mwhile\u001b[39;00m(current):\n\u001b[1;32m---> 58\u001b[0m     \u001b[38;5;28;01mif\u001b[39;00m ((\u001b[43mcurrent\u001b[49m\u001b[38;5;241;43m.\u001b[39;49m\u001b[43mnext\u001b[49m\u001b[38;5;241;43m.\u001b[39;49m\u001b[43mdata\u001b[49m \u001b[38;5;241m%\u001b[39m \u001b[38;5;241m2\u001b[39m) \u001b[38;5;241m!=\u001b[39m \u001b[38;5;241m0\u001b[39m):\n\u001b[0;32m     59\u001b[0m         current\u001b[38;5;241m.\u001b[39mnext \u001b[38;5;241m=\u001b[39m current\u001b[38;5;241m.\u001b[39mnext\u001b[38;5;241m.\u001b[39mnext\n\u001b[0;32m     60\u001b[0m     \u001b[38;5;28;01melse\u001b[39;00m:\n",
      "\u001b[1;31mAttributeError\u001b[0m: 'NoneType' object has no attribute 'data'"
     ]
    }
   ],
   "source": [
    "list_1 = SingleLinkedList()\n",
    "list_1.insertAtBegin(24)\n",
    "list_1.insertAtEnd(43)\n",
    "list_1.insertAtEnd(67)\n",
    "list_1.insertAtEnd(4)\n",
    "list_1.insertAtEnd(22)\n",
    "list_1.insertAtEnd(11)\n",
    "list_1.insertAtEnd(9)\n",
    "list_1.display()\n",
    "list_1.fun()\n",
    "list_1.display()\n",
    "list_1.deleteOdd()\n",
    "list_1.display()"
   ]
  }
 ],
 "metadata": {
  "kernelspec": {
   "display_name": "Python 3",
   "language": "python",
   "name": "python3"
  },
  "language_info": {
   "codemirror_mode": {
    "name": "ipython",
    "version": 3
   },
   "file_extension": ".py",
   "mimetype": "text/x-python",
   "name": "python",
   "nbconvert_exporter": "python",
   "pygments_lexer": "ipython3",
   "version": "3.13.1"
  }
 },
 "nbformat": 4,
 "nbformat_minor": 2
}
