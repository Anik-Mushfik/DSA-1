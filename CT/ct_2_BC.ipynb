{
 "cells": [
  {
   "cell_type": "markdown",
   "metadata": {},
   "source": [
    "**Qustion-1:**\n",
    "\n",
    "What will the following single linked list look like after the given code segment is executed? Consider the first node as head.\n",
    "[6]\n",
    "\n",
    "24-> 43 -> 67-> 3-> 22 -> 11 -> 9\n",
    "\n",
    "def fun(self):\n",
    "\n",
    "    temp = self.head\n",
    "\n",
    "    while temp != None and temp.next != None:\n",
    "\n",
    "        # Exchange data the two nodes\n",
    "\n",
    "        x = temp.data\n",
    "\n",
    "        temp.data = temp.next.data\n",
    "\n",
    "        temp.next.data = x\n",
    "\n",
    "        temp = temp.next.next"
   ]
  },
  {
   "cell_type": "code",
   "execution_count": 19,
   "metadata": {},
   "outputs": [],
   "source": [
    "class Node:\n",
    "    def __init__(self, data):\n",
    "        self.data = data\n",
    "        self.next = None\n",
    "\n",
    "\n",
    "class SingleLinkedList:\n",
    "    def __init__(self):\n",
    "        self.head = None\n",
    "    \n",
    "    def insertAtBegin(self, data):\n",
    "        new_item = Node(data)\n",
    "        if self.head is None:\n",
    "            self.head = new_item\n",
    "            return\n",
    "        else:\n",
    "            new_item.next = self.head\n",
    "            self.head = new_item\n",
    "\n",
    "    def insertAtEnd(self, data):\n",
    "        new_item = Node(data)\n",
    "        if self.head is None:\n",
    "            self.head = new_item\n",
    "            return\n",
    "        else:\n",
    "            current = self.head\n",
    "            while (current.next != None):\n",
    "                current = current.next\n",
    "            current.next = new_item\n",
    "\n",
    "    def fun(self):\n",
    "        temp = self.head\n",
    "        var = 0\n",
    "        while (temp != None) and (temp.next != None):\n",
    "            # Exchange data the two nodes\n",
    "            x = temp.data\n",
    "            temp.data = temp.next.data\n",
    "            temp.next.data = x\n",
    "\n",
    "            temp = temp.next.next\n",
    "    \n",
    "    def display(self):\n",
    "        current = self.head\n",
    "        while(current):\n",
    "            print(current.data, end=\" -> \")\n",
    "            current = current.next\n",
    "        print(f\"None\")"
   ]
  },
  {
   "cell_type": "code",
   "execution_count": 20,
   "metadata": {},
   "outputs": [
    {
     "name": "stdout",
     "output_type": "stream",
     "text": [
      "23 -> 43 -> 67 -> 4 -> 22 -> 11 -> 9 -> None\n",
      "43 -> 23 -> 4 -> 67 -> 11 -> 22 -> 9 -> None\n"
     ]
    }
   ],
   "source": [
    "list_1 = SingleLinkedList()\n",
    "list_1.insertAtBegin(23)\n",
    "list_1.insertAtEnd(43)\n",
    "list_1.insertAtEnd(67)\n",
    "list_1.insertAtEnd(4)\n",
    "list_1.insertAtEnd(22)\n",
    "list_1.insertAtEnd(11)\n",
    "list_1.insertAtEnd(9)\n",
    "list_1.display()\n",
    "list_1.fun()\n",
    "list_1.display()"
   ]
  },
  {
   "cell_type": "markdown",
   "metadata": {},
   "source": [
    "**Qustion-2:**\n",
    "\n",
    "Given a single linked list and the first node denoted as head, write a function to delete all the odd valued nodes of the linked list.\n",
    "[7]"
   ]
  },
  {
   "cell_type": "code",
   "execution_count": 21,
   "metadata": {},
   "outputs": [],
   "source": [
    "class Node:\n",
    "    def __init__(self, data):\n",
    "        self.data = data\n",
    "        self.next = None\n",
    "\n",
    "\n",
    "class SingleLinkedList_2:\n",
    "    def __init__(self):\n",
    "        self.head = None\n",
    "    \n",
    "    def insertAtBegin(self, data):\n",
    "        new_item = Node(data)\n",
    "        if self.head is None:\n",
    "            self.head = new_item\n",
    "            return\n",
    "        else:\n",
    "            new_item.next = self.head\n",
    "            self.head = new_item\n",
    "\n",
    "    def insertAtEnd(self, data):\n",
    "        new_item = Node(data)\n",
    "        if self.head is None:\n",
    "            self.head = new_item\n",
    "            return\n",
    "        else:\n",
    "            current = self.head\n",
    "            while (current.next != None):\n",
    "                current = current.next\n",
    "            current.next = new_item\n",
    "\n",
    "    def display(self):\n",
    "        current = self.head\n",
    "        while(current):\n",
    "            print(current.data, end=\" -> \")\n",
    "            current = current.next\n",
    "        print(f\"None\")\n",
    "\n",
    "    def deleteOdd(self):\n",
    "        if self.head is None:\n",
    "            print(\"The List is Empty\")\n",
    "\n",
    "        else:\n",
    "            if ((self.head.data % 2) != 0):\n",
    "                self.head = self.head.next\n",
    "            current = self.head\n",
    "            while(current.next):\n",
    "                if ((current.next.data % 2) != 0):\n",
    "                    current.next = current.next.next\n",
    "                current = current.next\n"
   ]
  },
  {
   "cell_type": "code",
   "execution_count": 23,
   "metadata": {},
   "outputs": [
    {
     "name": "stdout",
     "output_type": "stream",
     "text": [
      "22 -> 43 -> 67 -> 4 -> 22 -> 11 -> 9 -> None\n",
      "22 -> 67 -> 4 -> 22 -> 9 -> None\n"
     ]
    }
   ],
   "source": [
    "list_2 = SingleLinkedList_2()\n",
    "list_2.insertAtBegin(22)\n",
    "list_2.insertAtEnd(43)\n",
    "list_2.insertAtEnd(67)\n",
    "list_2.insertAtEnd(4)\n",
    "list_2.insertAtEnd(22)\n",
    "list_2.insertAtEnd(11)\n",
    "list_2.insertAtEnd(9)\n",
    "list_2.display()\n",
    "list_2.deleteOdd()\n",
    "list_2.display()"
   ]
  }
 ],
 "metadata": {
  "kernelspec": {
   "display_name": "Python 3",
   "language": "python",
   "name": "python3"
  },
  "language_info": {
   "codemirror_mode": {
    "name": "ipython",
    "version": 3
   },
   "file_extension": ".py",
   "mimetype": "text/x-python",
   "name": "python",
   "nbconvert_exporter": "python",
   "pygments_lexer": "ipython3",
   "version": "3.13.1"
  }
 },
 "nbformat": 4,
 "nbformat_minor": 2
}
