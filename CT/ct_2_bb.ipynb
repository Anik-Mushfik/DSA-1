{
 "cells": [
  {
   "cell_type": "markdown",
   "metadata": {},
   "source": [
    "**Qus-1: Output tracing**\n",
    "\n",
    "What does the following function return for the given Single Linked List with the first node as head and key=12? Explain your result"
   ]
  },
  {
   "cell_type": "code",
   "execution_count": 26,
   "metadata": {},
   "outputs": [],
   "source": [
    "class Node:\n",
    "    def __init__(self, data):\n",
    "        self.data = data\n",
    "        self.next = None\n",
    "\n",
    "\n",
    "class SingleLinkedList:\n",
    "    def __init__(self):\n",
    "        self.head = None\n",
    "    \n",
    "    def insertAtBegin(self, data):\n",
    "        new_item = Node(data)\n",
    "        if self.head is None:\n",
    "            self.head = new_item\n",
    "            return\n",
    "        else:\n",
    "            new_item.next = self.head\n",
    "            self.head = new_item\n",
    "\n",
    "    def insertAtEnd(self, data):\n",
    "        new_item = Node(data)\n",
    "        if self.head is None:\n",
    "            self.head = new_item\n",
    "            return\n",
    "        else:\n",
    "            current = self.head\n",
    "            while (current.next != None):\n",
    "                current = current.next\n",
    "            current.next = new_item\n",
    "\n",
    "    def fun(self, key):\n",
    "        temp = self.head\n",
    "        var = 0\n",
    "        while temp != None:\n",
    "            if temp.data == key:\n",
    "                return var\n",
    "            var = var+1\n",
    "            temp = temp.next\n",
    "        return -1\n",
    "    \n",
    "    def display(self):\n",
    "        current = self.head\n",
    "        while(current):\n",
    "            print(current.data, end=\" -> \")\n",
    "            current = current.next\n",
    "        print(f\"None\")"
   ]
  },
  {
   "cell_type": "code",
   "execution_count": 27,
   "metadata": {},
   "outputs": [
    {
     "name": "stdout",
     "output_type": "stream",
     "text": [
      "4 -> 63 -> 47 -> 31 -> 78 -> 12 -> 9 -> None\n"
     ]
    },
    {
     "data": {
      "text/plain": [
       "5"
      ]
     },
     "execution_count": 27,
     "metadata": {},
     "output_type": "execute_result"
    }
   ],
   "source": [
    "list_1 = SingleLinkedList()\n",
    "list_1.insertAtBegin(4)\n",
    "list_1.insertAtEnd(63)\n",
    "list_1.insertAtEnd(47)\n",
    "list_1.insertAtEnd(31)\n",
    "list_1.insertAtEnd(78)\n",
    "list_1.insertAtEnd(12)\n",
    "list_1.insertAtEnd(9)\n",
    "list_1.display()\n",
    "list_1.fun(12)"
   ]
  },
  {
   "cell_type": "markdown",
   "metadata": {},
   "source": [
    "**Qustion-2**\n",
    "\n",
    "Given a single linked list and the first node denoted as head, write a function to create a new node with the value equal to the square of the first element and insert it at the end of the linked list."
   ]
  },
  {
   "cell_type": "code",
   "execution_count": 28,
   "metadata": {},
   "outputs": [],
   "source": [
    "class Node:\n",
    "    def __init__(self, data):\n",
    "        self.data = data\n",
    "        self.next = None\n",
    "\n",
    "\n",
    "class SingleLinkedList_2:\n",
    "    def __init__(self):\n",
    "        self.head = None\n",
    "    \n",
    "    def insertAtBegin(self, data):\n",
    "        new_item = Node(data)\n",
    "        if self.head is None:\n",
    "            self.head = new_item\n",
    "            return\n",
    "        else:\n",
    "            new_item.next = self.head\n",
    "            self.head = new_item\n",
    "\n",
    "    def insertAtEnd(self, data):\n",
    "        new_item = Node(data)\n",
    "        if self.head is None:\n",
    "            self.head = new_item\n",
    "            return\n",
    "        else:\n",
    "            current = self.head\n",
    "            while (current.next != None):\n",
    "                current = current.next\n",
    "            current.next = new_item\n",
    "\n",
    "    def display(self):\n",
    "        current = self.head\n",
    "        while(current):\n",
    "            print(current.data, end=\" -> \")\n",
    "            current = current.next\n",
    "        print(f\"None\")\n",
    "\n",
    "    def newNodeGoesLast(self):\n",
    "        if self.head is None:\n",
    "            print(\"The list is empty\")\n",
    "        else:\n",
    "            new_node = Node((self.head.data)**2)\n",
    "            current = self.head\n",
    "            while(current.next):\n",
    "                current = current.next\n",
    "            current.next = new_node"
   ]
  },
  {
   "cell_type": "code",
   "execution_count": 29,
   "metadata": {},
   "outputs": [
    {
     "name": "stdout",
     "output_type": "stream",
     "text": [
      "4 -> 63 -> 47 -> 31 -> 78 -> 12 -> 9 -> None\n",
      "4 -> 63 -> 47 -> 31 -> 78 -> 12 -> 9 -> 16 -> None\n"
     ]
    }
   ],
   "source": [
    "list_2 = SingleLinkedList_2()\n",
    "list_2.insertAtBegin(4)\n",
    "list_2.insertAtEnd(63)\n",
    "list_2.insertAtEnd(47)\n",
    "list_2.insertAtEnd(31)\n",
    "list_2.insertAtEnd(78)\n",
    "list_2.insertAtEnd(12)\n",
    "list_2.insertAtEnd(9)\n",
    "list_2.display()\n",
    "list_2.newNodeGoesLast()\n",
    "list_2.display()"
   ]
  },
  {
   "cell_type": "markdown",
   "metadata": {},
   "source": [
    "**Qustion-3**\n",
    "\n",
    "Given a double linked list and the first node denoted as head, write a function to delete the element at the second last position of the linked list."
   ]
  },
  {
   "cell_type": "code",
   "execution_count": 30,
   "metadata": {},
   "outputs": [],
   "source": [
    "class Node:\n",
    "    def __init__(self, data=None):\n",
    "        self.data = data\n",
    "        self.next = None\n",
    "        self.prev = None\n",
    "\n",
    "\n",
    "class DoubleLinkedList:\n",
    "    def __init__(self):\n",
    "        self.head = None\n",
    "\n",
    "    def addAtBegin(self, data):\n",
    "        new_item = Node(data)\n",
    "        if self.head is not None:\n",
    "            self.head.prev = new_item\n",
    "            new_item.next = self.head\n",
    "        self.head = new_item\n",
    "    \n",
    "    def addAtEnd(self, data):\n",
    "        new_item = Node(data)\n",
    "        if self.head is not None:\n",
    "            current = self.head\n",
    "            while (current.next != None):\n",
    "                current = current.next\n",
    "            current.next = new_item\n",
    "            new_item.prev = current\n",
    "        else:\n",
    "            self.head = new_item\n",
    "\n",
    "    def deleteSecondLast(self):\n",
    "        if self.head is None:\n",
    "            print(\"The list is empty!\")\n",
    "        elif self.head.next is None:\n",
    "            print(\"The list has only one item!\")\n",
    "        elif self.head.next.next is None:\n",
    "            self.head = self.head.next\n",
    "            self.head.prev = None\n",
    "        else:\n",
    "            current = self.head\n",
    "            while (current.next.next):\n",
    "                current = current.next\n",
    "            current.next.prev = current.prev\n",
    "            current.prev.next = current.next\n",
    "\n",
    "    def display(self):\n",
    "        current = self.head\n",
    "        while(current):\n",
    "            print(current.data, end=\" <-> \")\n",
    "            current = current.next\n",
    "        print(f\"None\")\n",
    "            "
   ]
  },
  {
   "cell_type": "code",
   "execution_count": 31,
   "metadata": {},
   "outputs": [
    {
     "name": "stdout",
     "output_type": "stream",
     "text": [
      "4 <-> 63 <-> 47 <-> 31 <-> 78 <-> 12 <-> 9 <-> None\n",
      "4 <-> 63 <-> 47 <-> 31 <-> 78 <-> 9 <-> None\n"
     ]
    }
   ],
   "source": [
    "list_3 = DoubleLinkedList()\n",
    "list_3.addAtBegin(4)\n",
    "list_3.addAtEnd(63)\n",
    "list_3.addAtEnd(47)\n",
    "list_3.addAtEnd(31)\n",
    "list_3.addAtEnd(78)\n",
    "list_3.addAtEnd(12)\n",
    "list_3.addAtEnd(9)\n",
    "list_3.display()\n",
    "list_3.deleteSecondLast()\n",
    "list_3.display()"
   ]
  }
 ],
 "metadata": {
  "kernelspec": {
   "display_name": "Python 3",
   "language": "python",
   "name": "python3"
  },
  "language_info": {
   "codemirror_mode": {
    "name": "ipython",
    "version": 3
   },
   "file_extension": ".py",
   "mimetype": "text/x-python",
   "name": "python",
   "nbconvert_exporter": "python",
   "pygments_lexer": "ipython3",
   "version": "3.13.1"
  }
 },
 "nbformat": 4,
 "nbformat_minor": 2
}
